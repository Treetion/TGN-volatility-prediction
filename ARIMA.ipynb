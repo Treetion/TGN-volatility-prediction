{
 "cells": [
  {
   "cell_type": "markdown",
   "metadata": {},
   "source": [
    "# ARIMA 2m return"
   ]
  },
  {
   "cell_type": "code",
   "execution_count": null,
   "metadata": {},
   "outputs": [],
   "source": [
    "import numpy as np\n",
    "import pandas as pd\n",
    "import time\n",
    "import matplotlib.pyplot as plt\n",
    "from statsmodels.tsa.stattools import adfuller\n",
    "import pmdarima as pm\n",
    "from pmdarima.model_selection import train_test_split\n",
    "from sklearn.metrics import mean_squared_error"
   ]
  },
  {
   "cell_type": "code",
   "execution_count": null,
   "metadata": {
    "scrolled": false
   },
   "outputs": [],
   "source": [
    "ret_df = pd.read_csv('returns.csv') # read 2-min return data\n",
    "ret_df # check if data works\n",
    "ret_df = ret_df.drop(columns = ['Datetime']) # drop date column"
   ]
  },
  {
   "cell_type": "code",
   "execution_count": null,
   "metadata": {},
   "outputs": [],
   "source": [
    "train, test = train_test_split(ret_df, train_size = 0.8) # train test split"
   ]
  },
  {
   "cell_type": "code",
   "execution_count": null,
   "metadata": {},
   "outputs": [],
   "source": [
    "def fit_auto_arima(train, ticker, m = None):\n",
    "    \"\"\"\n",
    "    Fit an ARIMA model automatically\n",
    "    \"\"\"\n",
    "    if m is None:\n",
    "        model = pm.auto_arima(train[ticker])\n",
    "    else:\n",
    "        m_input = m\n",
    "        model = pm.auto_arima(train[ticker], seasonal = True, m = m_input)\n",
    "    return model\n",
    "\n",
    "def predict_auto_arima(model, test, ticker):\n",
    "    \"\"\"\n",
    "    Predict using the current ticker and ARIMA model\n",
    "    \"\"\"\n",
    "    forecasts = model.predict(test.shape[0])\n",
    "    target = test[ticker]\n",
    "    rmse = mean_squared_error(target, forecasts, squared = False)\n",
    "    return forecasts, rmse"
   ]
  },
  {
   "cell_type": "code",
   "execution_count": null,
   "metadata": {},
   "outputs": [],
   "source": [
    "# fit model for one company\n",
    "ticker = 'MMM'\n",
    "model = fit_auto_arima(train, ticker, m = 20)\n",
    "[forecasts, rmse] = predict_auto_arima(model, test, ticker)"
   ]
  },
  {
   "cell_type": "code",
   "execution_count": null,
   "metadata": {},
   "outputs": [],
   "source": [
    "# get predicted plot for one company\n",
    "plt.plot(range(train.shape[0]), train[ticker], c = 'blue')\n",
    "plt.plot(range(train.shape[0], ret_df.shape[0]), forecasts, c = 'green')\n",
    "#plt.plot(range(train.shape[0], ret_df.shape[0]), test['A'], c = 'yellow')\n",
    "plt.show()"
   ]
  },
  {
   "cell_type": "code",
   "execution_count": null,
   "metadata": {
    "scrolled": true
   },
   "outputs": [],
   "source": [
    "# fit models for all companies\n",
    "rmse_list = []\n",
    "start = time.time()\n",
    "model_list = []\n",
    "ticker_list = []\n",
    "iter = 1\n",
    "for ticker in ret_df.columns:\n",
    "    if ticker == 'COP':\n",
    "        iter += 1\n",
    "        pass\n",
    "    print(iter)\n",
    "    model = fit_auto_arima(train, ticker)\n",
    "    [forecasts, rmse] = predict_auto_arima(model, test, ticker)\n",
    "    rmse_list += [rmse]\n",
    "    if model.order != (0, 0, 0):\n",
    "        model_list += [model]\n",
    "        ticker_list += [ticker]\n",
    "    iter += 1\n",
    "print('Elapsed ' + str(time.time() - start))"
   ]
  },
  {
   "cell_type": "code",
   "execution_count": null,
   "metadata": {},
   "outputs": [],
   "source": [
    "rmse # get mean RMSE"
   ]
  },
  {
   "cell_type": "markdown",
   "metadata": {},
   "source": [
    "# ARIMA 10-min volatility"
   ]
  },
  {
   "cell_type": "code",
   "execution_count": null,
   "metadata": {},
   "outputs": [],
   "source": [
    "# import 10-min volatility data\n",
    "\n",
    "#vol_df = pd.read_csv('target.csv')\n",
    "vol_df = pd.read_json('data.json')\n",
    "vol_df = vol_df[['Datetime', 'ticker', 'target']].pivot(index = 'Datetime', columns = 'ticker', values = 'target')\n",
    "vol_df = vol_df.fillna(0)"
   ]
  },
  {
   "cell_type": "code",
   "execution_count": null,
   "metadata": {},
   "outputs": [],
   "source": [
    "train, test = train_test_split(vol_df, train_size = 0.8)"
   ]
  },
  {
   "cell_type": "code",
   "execution_count": null,
   "metadata": {},
   "outputs": [],
   "source": [
    "# fit models for all companies\n",
    "rmse_list = []\n",
    "start = time.time()\n",
    "iter = 1\n",
    "for ticker in vol_df.columns:\n",
    "    print(iter)\n",
    "    model = fit_auto_arima(train, ticker)\n",
    "    [forecasts, rmse] = predict_auto_arima(model, test, ticker)\n",
    "    rmse_list += [rmse]\n",
    "    iter += 1\n",
    "print('Elapsed ' + str(time.time() - start))"
   ]
  },
  {
   "cell_type": "code",
   "execution_count": null,
   "metadata": {},
   "outputs": [],
   "source": [
    "rmse # print mean RMSE"
   ]
  },
  {
   "cell_type": "code",
   "execution_count": null,
   "metadata": {},
   "outputs": [],
   "source": [
    "# fit model for one company\n",
    "ticker = 'MMM' \n",
    "model = fit_auto_arima(train, ticker, m = 200)\n",
    "[forecasts, rmse] = predict_auto_arima(model, test, ticker)"
   ]
  },
  {
   "cell_type": "code",
   "execution_count": null,
   "metadata": {},
   "outputs": [],
   "source": [
    "# plot predicted data for one company\n",
    "plt.plot(range(train.shape[0]), train[ticker], c = 'blue', label = 'Training data')\n",
    "plt.plot(range(train.shape[0], vol_df.shape[0]), forecasts, c = 'green', label = 'Predicted data')\n",
    "plt.plot(range(train.shape[0], vol_df.shape[0]), test['MMM'], c = 'orange', label = 'Testing data')\n",
    "plt.legend()\n",
    "plt.xlabel('Time index')\n",
    "plt.ylabel('Volatility')\n",
    "plt.show()\n",
    "#plt.savefig('6785 plots/3M_actual_vs_predicted', dpi = 500)"
   ]
  },
  {
   "cell_type": "code",
   "execution_count": null,
   "metadata": {},
   "outputs": [],
   "source": [
    "# plot first diff histogram for one company\n",
    "plt.hist(vol_df[ticker].diff())\n",
    "plt.xlabel(\"First Difference\")\n",
    "plt.ylabel(\"Number of Observations\")\n",
    "plt.savefig('6785 plots/3M_first_diff_hist.png', dpi = 500)"
   ]
  },
  {
   "cell_type": "code",
   "execution_count": null,
   "metadata": {},
   "outputs": [],
   "source": [
    "# plot acf of one company\n",
    "from statsmodels.graphics.tsaplots import plot_acf\n",
    "plot_acf(vol_df[ticker].diff())"
   ]
  }
 ],
 "metadata": {
  "kernelspec": {
   "display_name": "Python 3",
   "language": "python",
   "name": "python3"
  },
  "language_info": {
   "codemirror_mode": {
    "name": "ipython",
    "version": 3
   },
   "file_extension": ".py",
   "mimetype": "text/x-python",
   "name": "python",
   "nbconvert_exporter": "python",
   "pygments_lexer": "ipython3",
   "version": "3.7.3"
  }
 },
 "nbformat": 4,
 "nbformat_minor": 2
}
